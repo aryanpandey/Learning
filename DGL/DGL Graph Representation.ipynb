{
 "cells": [
  {
   "cell_type": "code",
   "execution_count": 1,
   "id": "d80ed495",
   "metadata": {},
   "outputs": [],
   "source": [
    "import dgl\n",
    "import numpy as np\n",
    "import torch"
   ]
  },
  {
   "cell_type": "code",
   "execution_count": 2,
   "id": "f53097e6",
   "metadata": {},
   "outputs": [],
   "source": [
    "## Creating a Directed Graph with 5 leaves\n",
    "\n",
    "g = dgl.graph(([0,0,0,0,0], [1,2,3,4,5]), num_nodes = 6)"
   ]
  },
  {
   "cell_type": "code",
   "execution_count": 5,
   "id": "0814a30b",
   "metadata": {},
   "outputs": [
    {
     "name": "stdout",
     "output_type": "stream",
     "text": [
      "(tensor([0, 0, 0, 0, 0]), tensor([1, 2, 3, 4, 5]))\n"
     ]
    }
   ],
   "source": [
    "# Prints the source and destination nodes of every edge\n",
    "print(g.edges())"
   ]
  },
  {
   "cell_type": "code",
   "execution_count": 6,
   "id": "86331a6c",
   "metadata": {},
   "outputs": [
    {
     "name": "stdout",
     "output_type": "stream",
     "text": [
      "Before Assigning:  {}\n",
      "After Assigning:  {'x': tensor([[ 0.0974, -1.3089,  2.1166],\n",
      "        [ 0.4933,  1.3394,  0.7622],\n",
      "        [-0.4205,  1.6478, -0.8186],\n",
      "        [-1.0759,  0.2161,  0.0928],\n",
      "        [ 0.5373,  1.4560, -0.3428],\n",
      "        [-0.3801,  0.1176, -0.2087]])}\n"
     ]
    }
   ],
   "source": [
    "# Assign a 3 dimensional Node Feature Vector for each node\n",
    "print(\"Before Assigning: \", g.ndata)\n",
    "g.ndata['x'] = torch.randn(6, 3)\n",
    "print(\"After Assigning: \", g.ndata)"
   ]
  },
  {
   "cell_type": "code",
   "execution_count": 8,
   "id": "7f3e4f15",
   "metadata": {},
   "outputs": [
    {
     "name": "stdout",
     "output_type": "stream",
     "text": [
      "6\n",
      "5\n",
      "5\n",
      "0\n"
     ]
    }
   ],
   "source": [
    "## Querying Graph Structures\n",
    "print(g.num_nodes())\n",
    "print(g.num_edges())\n",
    "\n",
    "#Printing Out Degrees of Node 0, ie, the center Node\n",
    "print(g.out_degrees(0))\n",
    "\n",
    "#Printing In Degrees of Node 0, ie, the center Node\n",
    "print(g.in_degrees(0))"
   ]
  },
  {
   "cell_type": "code",
   "execution_count": 9,
   "id": "df561055",
   "metadata": {},
   "outputs": [],
   "source": [
    "## Graph Transformations\n",
    "\n",
    "#Induce a subgraph from Node 0, Node 1 and node 3 from the original graph\n",
    "sg1 = g.subgraph([0, 1, 3])\n",
    "\n",
    "#Induce a edge subgraph from edge 0, edge 1 and edge 3 from the original graph\n",
    "sg2 = g.edge_subgraph([0, 1, 3])"
   ]
  },
  {
   "cell_type": "code",
   "execution_count": 12,
   "id": "90cf704e",
   "metadata": {},
   "outputs": [
    {
     "name": "stdout",
     "output_type": "stream",
     "text": [
      "tensor([0, 1, 3])\n",
      "tensor([0, 2])\n",
      "tensor([0, 1, 2, 4])\n",
      "tensor([0, 1, 3])\n"
     ]
    }
   ],
   "source": [
    "print(sg1.ndata[dgl.NID]) #Print Node IDs of the Subgraph 1\n",
    "print(sg1.edata[dgl.EID]) #Print Edge IDs of the Subgraph 1\n",
    "\n",
    "print(sg2.ndata[dgl.NID]) #Print Node IDs of the Subgraph 2\n",
    "print(sg2.edata[dgl.EID]) #Print Edge IDs of the Subgraph 2"
   ]
  },
  {
   "cell_type": "code",
   "execution_count": 13,
   "id": "d468b240",
   "metadata": {},
   "outputs": [
    {
     "name": "stdout",
     "output_type": "stream",
     "text": [
      "tensor([[ 0.0974, -1.3089,  2.1166],\n",
      "        [ 0.4933,  1.3394,  0.7622],\n",
      "        [-1.0759,  0.2161,  0.0928]])\n"
     ]
    }
   ],
   "source": [
    "# The original node feature of each node in sg1\n",
    "print(sg1.ndata['x'])"
   ]
  },
  {
   "cell_type": "code",
   "execution_count": 14,
   "id": "77f1f12f",
   "metadata": {},
   "outputs": [
    {
     "name": "stdout",
     "output_type": "stream",
     "text": [
      "(tensor([0, 0, 0, 0, 0, 1, 2, 3, 4, 5]), tensor([1, 2, 3, 4, 5, 0, 0, 0, 0, 0]))\n"
     ]
    }
   ],
   "source": [
    "## Adding Reverse Edges to a Graph to convert from Unidirectional to Bidirectional\n",
    "newg = dgl.add_reverse_edges(g)\n",
    "\n",
    "print(newg.edges())"
   ]
  },
  {
   "cell_type": "code",
   "execution_count": 15,
   "id": "922b8554",
   "metadata": {},
   "outputs": [
    {
     "name": "stdout",
     "output_type": "stream",
     "text": [
      "[Graph(num_nodes=6, num_edges=5,\n",
      "      ndata_schemes={'x': Scheme(shape=(3,), dtype=torch.float32)}\n",
      "      edata_schemes={})]\n",
      "Graph(num_nodes=3, num_edges=2,\n",
      "      ndata_schemes={'_ID': Scheme(shape=(), dtype=torch.int64), 'x': Scheme(shape=(3,), dtype=torch.float32)}\n",
      "      edata_schemes={'_ID': Scheme(shape=(), dtype=torch.int64)})\n",
      "Graph(num_nodes=4, num_edges=3,\n",
      "      ndata_schemes={'_ID': Scheme(shape=(), dtype=torch.int64), 'x': Scheme(shape=(3,), dtype=torch.float32)}\n",
      "      edata_schemes={'_ID': Scheme(shape=(), dtype=torch.int64)})\n"
     ]
    }
   ],
   "source": [
    "## Loading and Saving Graphs\n",
    "dgl.save_graphs('graph.dgl', g)\n",
    "dgl.save_graphs('multi_graphs.dgl', [g, sg1, sg2])\n",
    "\n",
    "(g), _ = dgl.load_graphs('graph.dgl')\n",
    "print(g)\n",
    "\n",
    "(g, sg1, sg2), _ = dgl.load_graphs('multi_graphs.dgl')\n",
    "print(sg1)\n",
    "print(sg2)"
   ]
  },
  {
   "cell_type": "code",
   "execution_count": null,
   "id": "931cc933",
   "metadata": {},
   "outputs": [],
   "source": []
  }
 ],
 "metadata": {
  "kernelspec": {
   "display_name": "Python 3 (ipykernel)",
   "language": "python",
   "name": "python3"
  },
  "language_info": {
   "codemirror_mode": {
    "name": "ipython",
    "version": 3
   },
   "file_extension": ".py",
   "mimetype": "text/x-python",
   "name": "python",
   "nbconvert_exporter": "python",
   "pygments_lexer": "ipython3",
   "version": "3.9.7"
  }
 },
 "nbformat": 4,
 "nbformat_minor": 5
}
