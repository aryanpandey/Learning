{
 "cells": [
  {
   "cell_type": "code",
   "execution_count": 1,
   "id": "a6027f78",
   "metadata": {},
   "outputs": [],
   "source": [
    "import dgl\n",
    "import torch\n",
    "import torch.nn as nn\n",
    "import torch.nn.functional as F"
   ]
  },
  {
   "cell_type": "code",
   "execution_count": 2,
   "id": "0b197982",
   "metadata": {},
   "outputs": [
    {
     "name": "stdout",
     "output_type": "stream",
     "text": [
      "  NumNodes: 2708\n",
      "  NumEdges: 10556\n",
      "  NumFeats: 1433\n",
      "  NumClasses: 7\n",
      "  NumTrainingSamples: 140\n",
      "  NumValidationSamples: 500\n",
      "  NumTestSamples: 1000\n",
      "Done loading data from cached files.\n",
      "Number of Categories:  7\n"
     ]
    }
   ],
   "source": [
    "## Data Import\n",
    "import dgl.data\n",
    "\n",
    "dataset = dgl.data.CoraGraphDataset()\n",
    "print(\"Number of Categories: \", dataset.num_classes)"
   ]
  },
  {
   "cell_type": "code",
   "execution_count": 3,
   "id": "b06bb083",
   "metadata": {},
   "outputs": [],
   "source": [
    "## Dataset has only one graph, although it can have multiple\n",
    "g = dataset[0]"
   ]
  },
  {
   "cell_type": "markdown",
   "id": "c301b22d",
   "metadata": {},
   "source": [
    "A DGL graph can store node features and edge features in two dictionary-like attributes called ndata and edata"
   ]
  },
  {
   "cell_type": "code",
   "execution_count": 4,
   "id": "d821e7d0",
   "metadata": {},
   "outputs": [
    {
     "name": "stdout",
     "output_type": "stream",
     "text": [
      "Node Features\n",
      "{'feat': tensor([[0., 0., 0.,  ..., 0., 0., 0.],\n",
      "        [0., 0., 0.,  ..., 0., 0., 0.],\n",
      "        [0., 0., 0.,  ..., 0., 0., 0.],\n",
      "        ...,\n",
      "        [0., 0., 0.,  ..., 0., 0., 0.],\n",
      "        [0., 0., 0.,  ..., 0., 0., 0.],\n",
      "        [0., 0., 0.,  ..., 0., 0., 0.]]), 'label': tensor([3, 4, 4,  ..., 3, 3, 3]), 'test_mask': tensor([False, False, False,  ...,  True,  True,  True]), 'train_mask': tensor([ True,  True,  True,  ..., False, False, False]), 'val_mask': tensor([False, False, False,  ..., False, False, False])}\n",
      "Shape of Node Features:  torch.Size([2708, 1433])\n",
      "Edge Features\n",
      "{}\n"
     ]
    }
   ],
   "source": [
    "print(\"Node Features\")\n",
    "print(g.ndata)\n",
    "print(\"Shape of Node Features: \", g.ndata['feat'].shape)\n",
    "print(\"Edge Features\")\n",
    "print(g.edata)"
   ]
  },
  {
   "cell_type": "code",
   "execution_count": 5,
   "id": "3e050ae6",
   "metadata": {},
   "outputs": [],
   "source": [
    "## Building a 2 layer Graph Convolution Network\n",
    "from dgl.nn import GraphConv\n",
    "\n",
    "class GCN(nn.Module):\n",
    "    def __init__(self, in_feats, h_feats, num_classes):\n",
    "        super(GCN, self).__init__()\n",
    "        self.conv1 = GraphConv(in_feats, h_feats)\n",
    "        self.conv2 = GraphConv(h_feats, num_classes)\n",
    "        \n",
    "    def forward(self, g, in_feat):\n",
    "        h = self.conv1(g, in_feat)\n",
    "        h = F.relu(h)\n",
    "        h = self.conv2(g, h)\n",
    "        \n",
    "        return h\n",
    "    \n",
    "## Creating the model for our example\n",
    "model = GCN(g.ndata['feat'].shape[1], 16, dataset.num_classes)"
   ]
  },
  {
   "cell_type": "code",
   "execution_count": 6,
   "id": "50bbfdbd",
   "metadata": {},
   "outputs": [],
   "source": [
    "## Training the GCN\n",
    "\n",
    "def train(g, model):\n",
    "    optimizer = torch.optim.Adam(model.parameters(), lr = 0.01)\n",
    "    best_val_acc = 0\n",
    "    best_test_acc = 0\n",
    "    \n",
    "    features = g.ndata['feat']\n",
    "    labels = g.ndata['label']\n",
    "    train_mask = g.ndata['train_mask']\n",
    "    val_mask = g.ndata['val_mask']\n",
    "    test_mask = g.ndata['test_mask']\n",
    "    \n",
    "    for e in range(100):\n",
    "        logits = model(g, features)\n",
    "        \n",
    "        pred = logits.argmax(1)\n",
    "        \n",
    "        loss = F.cross_entropy(logits[train_mask], labels[train_mask])\n",
    "        \n",
    "        train_acc = (pred[train_mask] == labels[train_mask]).float().mean()\n",
    "        val_acc = (pred[val_mask] == labels[val_mask]).float().mean()\n",
    "        test_acc = (pred[test_mask] == labels[test_mask]).float().mean()\n",
    "        \n",
    "        if best_val_acc < val_acc:\n",
    "            best_val_acc = val_acc\n",
    "            best_test_acc = test_acc\n",
    "            \n",
    "        optimizer.zero_grad()\n",
    "        loss.backward()\n",
    "        optimizer.step()\n",
    "        \n",
    "        if e%5 == 0:\n",
    "            print('In epoch {}, loss: {:.3f}, val acc: {:.3f} (best {:.3f}), test acc: {:.3f} (best {:.3f})'.format(\n",
    "                e, loss, val_acc, best_val_acc, test_acc, best_test_acc))"
   ]
  },
  {
   "cell_type": "code",
   "execution_count": 7,
   "id": "6f6d7966",
   "metadata": {},
   "outputs": [
    {
     "data": {
      "text/plain": [
       "'1.12.1+cu102'"
      ]
     },
     "execution_count": 7,
     "metadata": {},
     "output_type": "execute_result"
    }
   ],
   "source": [
    "torch.__version__"
   ]
  },
  {
   "cell_type": "code",
   "execution_count": 9,
   "id": "04d28a29",
   "metadata": {},
   "outputs": [
    {
     "name": "stdout",
     "output_type": "stream",
     "text": [
      "In epoch 0, loss: 1.946, val acc: 0.176 (best 0.176), test acc: 0.192 (best 0.192)\n",
      "In epoch 5, loss: 1.904, val acc: 0.544 (best 0.544), test acc: 0.572 (best 0.572)\n",
      "In epoch 10, loss: 1.833, val acc: 0.664 (best 0.670), test acc: 0.689 (best 0.691)\n",
      "In epoch 15, loss: 1.742, val acc: 0.686 (best 0.694), test acc: 0.705 (best 0.706)\n",
      "In epoch 20, loss: 1.628, val acc: 0.688 (best 0.694), test acc: 0.709 (best 0.706)\n",
      "In epoch 25, loss: 1.494, val acc: 0.700 (best 0.700), test acc: 0.702 (best 0.703)\n",
      "In epoch 30, loss: 1.340, val acc: 0.704 (best 0.704), test acc: 0.709 (best 0.709)\n",
      "In epoch 35, loss: 1.174, val acc: 0.696 (best 0.704), test acc: 0.711 (best 0.709)\n",
      "In epoch 40, loss: 1.004, val acc: 0.706 (best 0.706), test acc: 0.719 (best 0.719)\n",
      "In epoch 45, loss: 0.842, val acc: 0.704 (best 0.708), test acc: 0.717 (best 0.718)\n",
      "In epoch 50, loss: 0.694, val acc: 0.718 (best 0.718), test acc: 0.722 (best 0.722)\n",
      "In epoch 55, loss: 0.565, val acc: 0.718 (best 0.718), test acc: 0.723 (best 0.722)\n",
      "In epoch 60, loss: 0.457, val acc: 0.728 (best 0.728), test acc: 0.729 (best 0.729)\n",
      "In epoch 65, loss: 0.369, val acc: 0.738 (best 0.738), test acc: 0.738 (best 0.738)\n",
      "In epoch 70, loss: 0.299, val acc: 0.748 (best 0.748), test acc: 0.748 (best 0.746)\n",
      "In epoch 75, loss: 0.244, val acc: 0.752 (best 0.752), test acc: 0.752 (best 0.748)\n",
      "In epoch 80, loss: 0.200, val acc: 0.748 (best 0.754), test acc: 0.754 (best 0.753)\n",
      "In epoch 85, loss: 0.166, val acc: 0.752 (best 0.754), test acc: 0.755 (best 0.753)\n",
      "In epoch 90, loss: 0.139, val acc: 0.760 (best 0.760), test acc: 0.758 (best 0.758)\n",
      "In epoch 95, loss: 0.118, val acc: 0.762 (best 0.764), test acc: 0.757 (best 0.756)\n"
     ]
    }
   ],
   "source": [
    "train(g, model)"
   ]
  },
  {
   "cell_type": "code",
   "execution_count": null,
   "id": "b8c0a240",
   "metadata": {},
   "outputs": [],
   "source": []
  }
 ],
 "metadata": {
  "kernelspec": {
   "display_name": "Python 3 (ipykernel)",
   "language": "python",
   "name": "python3"
  },
  "language_info": {
   "codemirror_mode": {
    "name": "ipython",
    "version": 3
   },
   "file_extension": ".py",
   "mimetype": "text/x-python",
   "name": "python",
   "nbconvert_exporter": "python",
   "pygments_lexer": "ipython3",
   "version": "3.9.7"
  }
 },
 "nbformat": 4,
 "nbformat_minor": 5
}
